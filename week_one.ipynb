{
  "nbformat": 4,
  "nbformat_minor": 0,
  "metadata": {
    "colab": {
      "name": "week_one.ipynb",
      "provenance": [],
      "collapsed_sections": [],
      "authorship_tag": "ABX9TyNXlBvJZ6Xlh5XGlHPmmR7k",
      "include_colab_link": true
    },
    "kernelspec": {
      "name": "python3",
      "display_name": "Python 3"
    }
  },
  "cells": [
    {
      "cell_type": "markdown",
      "metadata": {
        "id": "view-in-github",
        "colab_type": "text"
      },
      "source": [
        "<a href=\"https://colab.research.google.com/github/frankieglopez/Week1_GuessingGame/blob/main/week_one.ipynb\" target=\"_parent\"><img src=\"https://colab.research.google.com/assets/colab-badge.svg\" alt=\"Open In Colab\"/></a>"
      ]
    },
    {
      "cell_type": "markdown",
      "metadata": {
        "id": "PGzkEmksfcI7"
      },
      "source": [
        "variable"
      ]
    },
    {
      "cell_type": "code",
      "metadata": {
        "id": "P3L1Ls2f7NjS"
      },
      "source": [
        "x=5 "
      ],
      "execution_count": null,
      "outputs": []
    },
    {
      "cell_type": "markdown",
      "metadata": {
        "id": "xFIzFG_bfwzX"
      },
      "source": [
        "float"
      ]
    },
    {
      "cell_type": "code",
      "metadata": {
        "id": "HOOG1yIpfgYx"
      },
      "source": [
        "5.5"
      ],
      "execution_count": null,
      "outputs": []
    },
    {
      "cell_type": "markdown",
      "metadata": {
        "id": "0ye38X9Qf3QL"
      },
      "source": [
        "string"
      ]
    },
    {
      "cell_type": "code",
      "metadata": {
        "id": "mAeugw94f1ov"
      },
      "source": [
        "'hello there'"
      ],
      "execution_count": null,
      "outputs": []
    },
    {
      "cell_type": "markdown",
      "metadata": {
        "id": "DjyAv9SlgFTZ"
      },
      "source": [
        "Boolean"
      ]
    },
    {
      "cell_type": "code",
      "metadata": {
        "id": "nGWw5G9qf9h-"
      },
      "source": [
        "True"
      ],
      "execution_count": null,
      "outputs": []
    },
    {
      "cell_type": "markdown",
      "metadata": {
        "id": "LEqI8YR0gEK0"
      },
      "source": [
        "Boolean"
      ]
    },
    {
      "cell_type": "code",
      "metadata": {
        "id": "b-Dzyc3zgBjt"
      },
      "source": [
        "False"
      ],
      "execution_count": null,
      "outputs": []
    },
    {
      "cell_type": "markdown",
      "metadata": {
        "id": "qnZLKdvQgUjx"
      },
      "source": [
        "List"
      ]
    },
    {
      "cell_type": "code",
      "metadata": {
        "id": "CZuRno7HgPre"
      },
      "source": [
        "[]"
      ],
      "execution_count": null,
      "outputs": []
    },
    {
      "cell_type": "markdown",
      "metadata": {
        "id": "IApp-5f4ga4H"
      },
      "source": [
        "Sets use curly braces"
      ]
    },
    {
      "cell_type": "code",
      "metadata": {
        "colab": {
          "base_uri": "https://localhost:8080/"
        },
        "id": "aAejsaX9gZVz",
        "outputId": "90f8db6e-77f5-4f7f-e033-85dc793ece9b"
      },
      "source": [
        "{}\n",
        "\n"
      ],
      "execution_count": null,
      "outputs": [
        {
          "output_type": "execute_result",
          "data": {
            "text/plain": [
              "{}"
            ]
          },
          "metadata": {
            "tags": []
          },
          "execution_count": 2
        }
      ]
    },
    {
      "cell_type": "code",
      "metadata": {
        "id": "iAvuvMO3tTZD"
      },
      "source": [
        "import requests\n",
        "\n",
        "response= requests.get('https://uselessfacts.jsph.pl/random.json')\n",
        "\n",
        "print (response.text)"
      ],
      "execution_count": null,
      "outputs": []
    },
    {
      "cell_type": "code",
      "metadata": {
        "id": "onccuSoWuNrO"
      },
      "source": [
        ""
      ],
      "execution_count": null,
      "outputs": []
    },
    {
      "cell_type": "code",
      "metadata": {
        "colab": {
          "base_uri": "https://localhost:8080/"
        },
        "id": "F6BIPW-muOJv",
        "outputId": "9c00457c-039b-4868-928d-35a7b27f39ba"
      },
      "source": [
        "import requests\n",
        "\n",
        "response= requests.get('https://uselessfacts.jsph.pl/random.json?language=en')\n",
        "\n",
        "print (response.text)\n",
        "\n"
      ],
      "execution_count": null,
      "outputs": [
        {
          "output_type": "stream",
          "text": [
            "{\"id\":\"318e1334-18e2-47aa-8438-793d8fd615f9\",\"text\":\"2,000 pounds of space dust and other space debris fall on the Earth every day.\",\"source\":\"djtech.net\",\"source_url\":\"http:\\/\\/www.djtech.net\\/humor\\/useless_facts.htm\",\"language\":\"en\",\"permalink\":\"https:\\/\\/uselessfacts.jsph.pl\\/318e1334-18e2-47aa-8438-793d8fd615f9\"}\n"
          ],
          "name": "stdout"
        }
      ]
    },
    {
      "cell_type": "code",
      "metadata": {
        "colab": {
          "base_uri": "https://localhost:8080/"
        },
        "id": "Sf2XDjmnAI0G",
        "outputId": "dcd3a1e8-37cb-440f-fd93-7925b576547b"
      },
      "source": [
        "query_parameters ={\n",
        "    'language': 'en'\n",
        "}\n",
        "\n",
        "response = requests.get('https://uselessfacts.jsph.pl/random.json', params=query_parameters)\n",
        "\n",
        "print(response.json().get('text'))"
      ],
      "execution_count": null,
      "outputs": [
        {
          "output_type": "stream",
          "text": [
            "Months that begin on a Sunday will always have a `Friday the 13th`.\n"
          ],
          "name": "stdout"
        }
      ]
    },
    {
      "cell_type": "markdown",
      "metadata": {
        "id": "rTfBY8-kX6zY"
      },
      "source": [
        "#Data Structers\n",
        "The **important** ones are **lists**, **dictionaries**, and **sets**.\n",
        "\n",
        "1st number= starting position (inclusive)   [0:].  \n",
        "2nd number = stopping position(exclusive) [0:4].  \n",
        "3rd number= step example [0:4:2] skips every two starts at caleb skips jimmy and selects samantha.   \n",
        "\n",
        "data [0] selects caleb.  \n",
        "data [0:3] selects 1-3.  \n",
        "data [0:4] selects all names above.  \n",
        "data [0:] prints entire list.  \n",
        "\n",
        "\n",
        "```\n",
        "# This is formatted as code"
      ]
    },
    {
      "cell_type": "markdown",
      "metadata": {
        "id": "9MuLQHLBeHG9"
      },
      "source": [
        ""
      ]
    },
    {
      "cell_type": "code",
      "metadata": {
        "colab": {
          "base_uri": "https://localhost:8080/"
        },
        "id": "apss1-NSAn-L",
        "outputId": "47ff975c-baaf-4129-b16a-ba2331a0bb33"
      },
      "source": [
        "data= ['Caleb', 'Jimmy','Samantha', 'Monica' ]\n",
        "\n",
        "data [0:4:2]"
      ],
      "execution_count": null,
      "outputs": [
        {
          "output_type": "execute_result",
          "data": {
            "text/plain": [
              "['Caleb', 'Samantha']"
            ]
          },
          "metadata": {
            "tags": []
          },
          "execution_count": 30
        }
      ]
    },
    {
      "cell_type": "markdown",
      "metadata": {
        "id": "y3fCoy6yehQf"
      },
      "source": [
        "## Dictionaries and Sets\n",
        "use curly braces for organized lists"
      ]
    },
    {
      "cell_type": "code",
      "metadata": {
        "colab": {
          "base_uri": "https://localhost:8080/"
        },
        "id": "iIy38_1ndiiY",
        "outputId": "f8f1b399-2062-4ec0-ada8-f95cb02da366"
      },
      "source": [
        "data={'Caleb', 'Jimmy', 'Samantha', 'Monica', 'Caleb'}\n",
        "\n",
        "data_dictionary ={\n",
        "    'Caleb': 5,\n",
        "    'Jimmy': 10,\n",
        "    'Samantha': 12,\n",
        "    'Monica': 20,\n",
        "    'Caleb': 4\n",
        "}\n",
        "\n",
        "\n",
        "print(data)\n",
        "print(data_dictionary.get('Caleb'))\n"
      ],
      "execution_count": null,
      "outputs": [
        {
          "output_type": "stream",
          "text": [
            "{'Samantha', 'Monica', 'Caleb', 'Jimmy'}\n",
            "4\n"
          ],
          "name": "stdout"
        }
      ]
    },
    {
      "cell_type": "markdown",
      "metadata": {
        "id": "XJgtV_kUZfeX"
      },
      "source": [
        "# Control flow- Loops and Conditionals\n",
        "**Iteration** - one time through the loop.  \n",
        "Basic loop.  \n",
        "Pound sign is how you comment.\n"
      ]
    },
    {
      "cell_type": "code",
      "metadata": {
        "colab": {
          "base_uri": "https://localhost:8080/"
        },
        "id": "-nAHkh6K_8NV",
        "outputId": "b6c11168-86f8-44f2-e418-0fc7ef23fd2f"
      },
      "source": [
        "for i in range(10):\r\n",
        "  print(i)"
      ],
      "execution_count": 5,
      "outputs": [
        {
          "output_type": "stream",
          "text": [
            "0\n",
            "1\n",
            "2\n",
            "3\n",
            "4\n",
            "5\n",
            "6\n",
            "7\n",
            "8\n",
            "9\n"
          ],
          "name": "stdout"
        }
      ]
    },
    {
      "cell_type": "code",
      "metadata": {
        "colab": {
          "base_uri": "https://localhost:8080/"
        },
        "id": "NrS8TpdC8Vfb",
        "outputId": "9f1a29a8-0981-4e28-c025-0bed7b645b01"
      },
      "source": [
        "data= ['a', 'b', 'c', 'd', 'e']\r\n",
        "\r\n",
        "for i in range(5):\r\n",
        "  print(data[i])\r\n",
        "  #increased here"
      ],
      "execution_count": 3,
      "outputs": [
        {
          "output_type": "stream",
          "text": [
            "a\n",
            "b\n",
            "c\n",
            "d\n",
            "e\n"
          ],
          "name": "stdout"
        }
      ]
    },
    {
      "cell_type": "code",
      "metadata": {
        "colab": {
          "base_uri": "https://localhost:8080/"
        },
        "id": "DxGJVieBAVoF",
        "outputId": "39902112-968c-4500-b7d7-2058caa4c554"
      },
      "source": [
        "data= ['a', 'b', 'c', 'd', 'e']\r\n",
        "\r\n",
        "for i in range(len(data)):\r\n",
        "  print(data[i])\r\n",
        "  #use len to avoid using value 5\r\n",
        "  #start at inner most function ex\r\n",
        "for letter in data:\r\n",
        "  print(letter)"
      ],
      "execution_count": 9,
      "outputs": [
        {
          "output_type": "stream",
          "text": [
            "a\n",
            "b\n",
            "c\n",
            "d\n",
            "e\n",
            "a\n",
            "b\n",
            "c\n",
            "d\n",
            "e\n"
          ],
          "name": "stdout"
        }
      ]
    },
    {
      "cell_type": "code",
      "metadata": {
        "colab": {
          "base_uri": "https://localhost:8080/"
        },
        "id": "xufgaoP-BHZh",
        "outputId": "9fc84753-c186-4d06-afe5-18411a8154b8"
      },
      "source": [
        "data= ['a', 'b', 'c', 'd', 'e']\r\n",
        "\r\n",
        "for i in range(len(data)): # standard for loop\r\n",
        "  print(data[i])\r\n",
        "  \r\n",
        "data={'Caleb', 'Jimmy', 'Samantha', 'Monica', 'Caleb'}\r\n",
        "\r\n",
        "\r\n",
        "for letter in data:\r\n",
        "    print(letter)"
      ],
      "execution_count": 11,
      "outputs": [
        {
          "output_type": "stream",
          "text": [
            "a\n",
            "b\n",
            "c\n",
            "d\n",
            "e\n",
            "Jimmy\n",
            "Samantha\n",
            "Monica\n",
            "Caleb\n"
          ],
          "name": "stdout"
        }
      ]
    },
    {
      "cell_type": "code",
      "metadata": {
        "colab": {
          "base_uri": "https://localhost:8080/"
        },
        "id": "zNooYzpKCtXG",
        "outputId": "eb2ffe03-0b59-49be-f9b1-13a7764d0573"
      },
      "source": [
        "data={'Caleb', 'Jimmy', 'Samantha', 'Monica', 'Caleb'}\r\n",
        "\r\n",
        "for i, letter in enumerate(data): # prints i which is index and then prints data\r\n",
        "  print(i, letter) # numbers end up side by side"
      ],
      "execution_count": 12,
      "outputs": [
        {
          "output_type": "stream",
          "text": [
            "0 Jimmy\n",
            "1 Samantha\n",
            "2 Monica\n",
            "3 Caleb\n"
          ],
          "name": "stdout"
        }
      ]
    },
    {
      "cell_type": "code",
      "metadata": {
        "colab": {
          "base_uri": "https://localhost:8080/"
        },
        "id": "i9vOmrcfDGZY",
        "outputId": "b9476221-accd-4e1a-d6d8-47de3e24e1e2"
      },
      "source": [
        "data= ['a', 'b', 'c', 'd', 'e']\r\n",
        "\r\n",
        "for i in range(10):\r\n",
        "  print(i, end=\" \") # use end=\" \" for cleaner output\r\n",
        "  \r\n",
        "for letter in data:\r\n",
        "  print(letter, end=\" \")\r\n",
        "\r\n",
        "for i, letter in enumerate(data):\r\n",
        "    print(i, letter, end= \" \")"
      ],
      "execution_count": 14,
      "outputs": [
        {
          "output_type": "stream",
          "text": [
            "0 1 2 3 4 5 6 7 8 9 a b c d e 0 a 1 b 2 c 3 d 4 e "
          ],
          "name": "stdout"
        }
      ]
    },
    {
      "cell_type": "code",
      "metadata": {
        "colab": {
          "base_uri": "https://localhost:8080/"
        },
        "id": "pU5BxDbrDxWp",
        "outputId": "6d996369-98b0-41fc-c5b6-60abcca91e3c"
      },
      "source": [
        "data= ['a', 'b', 'c', 'd', 'e']\r\n",
        "\r\n",
        "for i in range(10):\r\n",
        "  print(i, end=\" \") # use end=\" \" for cleaner output\r\n",
        "\r\n",
        "print(\" \")  # space between the for loops\r\n",
        "for letter in data:\r\n",
        "  print(letter, end=\" \")\r\n",
        "\r\n",
        "print(\" \") # space betweent the for loops\r\n",
        "for i, letter in enumerate(data):\r\n",
        "    print(i, letter, end= \" \")"
      ],
      "execution_count": 15,
      "outputs": [
        {
          "output_type": "stream",
          "text": [
            "0 1 2 3 4 5 6 7 8 9 \n",
            "a b c d e 0 a 1 b 2 c 3 d 4 e "
          ],
          "name": "stdout"
        }
      ]
    },
    {
      "cell_type": "code",
      "metadata": {
        "colab": {
          "base_uri": "https://localhost:8080/"
        },
        "id": "vSalh9iYD1Ky",
        "outputId": "446a1309-b3ed-4337-f9ce-0d2d8681e42c"
      },
      "source": [
        "data= ['a', 'b', 'c', 'd', 'e']\r\n",
        "\r\n",
        "i = 0      # initialization// set variable\r\n",
        "\r\n",
        "while i < len(data):     # len = length of\r\n",
        "  print(data[i], end=\" \") # data [i] =data index\r\n",
        "  i += 1     #  += increases a variable by 1 same as i ++ in java\r\n"
      ],
      "execution_count": 29,
      "outputs": [
        {
          "output_type": "stream",
          "text": [
            "a b c d e "
          ],
          "name": "stdout"
        }
      ]
    },
    {
      "cell_type": "code",
      "metadata": {
        "colab": {
          "base_uri": "https://localhost:8080/"
        },
        "id": "lGbxG_rFH9lo",
        "outputId": "c0d06a42-c0eb-40e8-c306-d9b5bc0e2d52"
      },
      "source": [
        "data_dictionary = {\r\n",
        "    'Caleb': 5,\r\n",
        "    'Jimmy': 10,\r\n",
        "    'Samantha': 12,\r\n",
        "    'Monica': 20,\r\n",
        "    'Caleb': 4\r\n",
        "}\r\n",
        "#print(data_dictionary)  # same a below\\\r\n",
        "for key, value in data_dictionary.items():\r\n",
        "  if value == 12: # customer logic\r\n",
        "    print('We found 12')\r\n",
        "    break\r\n",
        "  print(key, value)"
      ],
      "execution_count": 32,
      "outputs": [
        {
          "output_type": "stream",
          "text": [
            "Caleb 4\n",
            "Jimmy 10\n",
            "We found 12\n"
          ],
          "name": "stdout"
        }
      ]
    },
    {
      "cell_type": "markdown",
      "metadata": {
        "id": "WA-UWw6jJwpa"
      },
      "source": [
        "# Custom Functions\r\n",
        "Guessing game.  \r\n",
        "\r\n",
        "Generate a random number- random module\r\n",
        "\r\n",
        "do while - Python doesn't have this built in.  \r\n",
        "do something once - possible repeat it.   \r\n",
        "Ask us for a number: if we get it wrong ask again.\r\n",
        "logic for right/wrong: guessed==correct value   \r\n"
      ]
    },
    {
      "cell_type": "code",
      "metadata": {
        "colab": {
          "base_uri": "https://localhost:8080/"
        },
        "id": "g4_Et3ZAJvVo",
        "outputId": "4f1354fb-f020-4b0e-a75f-6d0b17dd12ed"
      },
      "source": [
        "from random import randint\r\n",
        "low =0\r\n",
        "high=100\r\n",
        "correct = randint(low, high)\r\n",
        "print(f\"Guess a number between {low} and {high}.\")\r\n",
        "\r\n",
        "while True:\r\n",
        "  guess = int(input()) #function attached to int class constructing a new int\r\n",
        "\r\n",
        "  if guess < correct:\r\n",
        "    print(\"Guess Higher\")\r\n",
        "  elif guess > correct:\r\n",
        "    print(\"Guess Lower\")\r\n",
        " # print(type(guess), type(correct))\r\n",
        "  else:\r\n",
        "    print(\"You win\")\r\n",
        "    break\r\n",
        " # do something\r\n",
        " # check to see if we should do it again\r\n"
      ],
      "execution_count": 61,
      "outputs": [
        {
          "output_type": "stream",
          "text": [
            "Guess a number between 0 and 100.\n",
            "50\n",
            "Guess Lower\n",
            "25\n",
            "Guess Lower\n",
            "15\n",
            "Guess Higher\n",
            "20\n",
            "Guess Lower\n",
            "18\n",
            "You win\n"
          ],
          "name": "stdout"
        }
      ]
    }
  ]
}